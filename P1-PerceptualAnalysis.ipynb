{
 "cells": [
  {
   "cell_type": "markdown",
   "metadata": {},
   "source": [
    "# The Science of Decisions (Perceptual Analysis)\n",
    "\n",
    "\n",
    "##### By Raul Maldonado"
   ]
  },
  {
   "cell_type": "markdown",
   "metadata": {},
   "source": [
    "**Background Information:**\n",
    "\n",
    "In a Stroop task, participants are presented with a list of words, with each word displayed in a color of ink. The participant’s task is to say out loud the color of the ink in which the word is printed. The task has two conditions: a congruent words condition, and an incongruent words condition. \n",
    "\n",
    "In the congruent words condition, the words being displayed are color words whose names match the colors in which they are printed: for example <span style=\"color:red\"> **RED**</span>, <span style=\"color:blue\"> ** BLUE** </span>. In the incongruent words condition, the words displayed are color words whose names do not match the colors in which they are printed: for example <span style=\"color:green\"> PURPLE </span>, <span style=\"color:purple\">ORANGE</span>. \n",
    "\n",
    "In each case, we measure the time it takes to name the ink colors in equally-sized lists. Each participant will go through and record a time from each condition.\n",
    "\n",
    "You can see this example displayed in the visual below:"
   ]
  },
  {
   "cell_type": "markdown",
   "metadata": {},
   "source": [
    "######  ![alt text](http://mercercognitivepsychology.pbworks.com/f/1384790362/stroopsample.jpg)"
   ]
  },
  {
   "cell_type": "markdown",
   "metadata": {},
   "source": [
    "**Project Goal:**\n",
    "We will investigate for the classical phenomenon called Stroop Effect.\n",
    "\n"
   ]
  },
  {
   "cell_type": "markdown",
   "metadata": {},
   "source": [
    "____"
   ]
  },
  {
   "cell_type": "markdown",
   "metadata": {},
   "source": [
    "### Import"
   ]
  },
  {
   "cell_type": "code",
   "execution_count": 1,
   "metadata": {
    "collapsed": false
   },
   "outputs": [],
   "source": [
    "import pandas as pd\n",
    "import numpy as np\n",
    "import matplotlib.pyplot as plt\n",
    "%matplotlib inline"
   ]
  },
  {
   "cell_type": "code",
   "execution_count": 2,
   "metadata": {
    "collapsed": false
   },
   "outputs": [],
   "source": [
    "file = pd.read_csv(\"stroopdata.csv\")"
   ]
  },
  {
   "cell_type": "code",
   "execution_count": 3,
   "metadata": {
    "collapsed": false
   },
   "outputs": [
    {
     "data": {
      "text/html": [
       "<div>\n",
       "<table border=\"1\" class=\"dataframe\">\n",
       "  <thead>\n",
       "    <tr style=\"text-align: right;\">\n",
       "      <th></th>\n",
       "      <th>Congruent</th>\n",
       "      <th>Incongruent</th>\n",
       "    </tr>\n",
       "  </thead>\n",
       "  <tbody>\n",
       "    <tr>\n",
       "      <th>0</th>\n",
       "      <td>12.079</td>\n",
       "      <td>19.278</td>\n",
       "    </tr>\n",
       "    <tr>\n",
       "      <th>1</th>\n",
       "      <td>16.791</td>\n",
       "      <td>18.741</td>\n",
       "    </tr>\n",
       "    <tr>\n",
       "      <th>2</th>\n",
       "      <td>9.564</td>\n",
       "      <td>21.214</td>\n",
       "    </tr>\n",
       "    <tr>\n",
       "      <th>3</th>\n",
       "      <td>8.630</td>\n",
       "      <td>15.687</td>\n",
       "    </tr>\n",
       "    <tr>\n",
       "      <th>4</th>\n",
       "      <td>14.669</td>\n",
       "      <td>22.803</td>\n",
       "    </tr>\n",
       "  </tbody>\n",
       "</table>\n",
       "</div>"
      ],
      "text/plain": [
       "   Congruent  Incongruent\n",
       "0     12.079       19.278\n",
       "1     16.791       18.741\n",
       "2      9.564       21.214\n",
       "3      8.630       15.687\n",
       "4     14.669       22.803"
      ]
     },
     "execution_count": 3,
     "metadata": {},
     "output_type": "execute_result"
    }
   ],
   "source": [
    "file.head()"
   ]
  },
  {
   "cell_type": "markdown",
   "metadata": {},
   "source": [
    "### Preliminary Thoughts"
   ]
  },
  {
   "cell_type": "markdown",
   "metadata": {},
   "source": [
    "### Question 1: What is our independent variable? What is our dependent Variable?"
   ]
  },
  {
   "cell_type": "markdown",
   "metadata": {},
   "source": [
    "_An independent variable is defined as a factor in an experiement whose variation does not depend on that of another_. \n",
    "\n",
    "So, our independent variable is a  word being congruent or incongruent. \n",
    "\n",
    "-----\n",
    "\n",
    "_A dependent variable is defined as a factor who depends on the variation of another variable_. \n",
    "\n",
    "In our case, our dependent variable is measuring the reaction time it takes to classify incongruent and congruent words"
   ]
  },
  {
   "cell_type": "markdown",
   "metadata": {},
   "source": [
    "### Question 2: What is an appropriate set of hypotheses for this task? What kind of statistical test do you expect to perform?"
   ]
  },
  {
   "cell_type": "markdown",
   "metadata": {},
   "source": [
    "We ask ourselves if there is a significant difference in reaction time of the word conditions? \n",
    "\n",
    "Each participant was required to take a test and react from the word condition. Because there are two conditions that are observed in one trial per participant, we observe that this study is dependent paired study. \n",
    "\n",
    "These sets of data produced the different scores that are linked in the population through repeated measurement."
   ]
  },
  {
   "cell_type": "markdown",
   "metadata": {},
   "source": [
    "Moreover, this sample data set has $n<30$ participants with an unknown population standard deviation $\\sigma$. \n",
    "\n",
    "Lastly, we can assume we are randomly drawing data from a normally distributed population. \n",
    "\n",
    "This assumption for normality can be a solidifying key factor to come to the conclusion that the statistical test we expect to perform is a hypthesis test through t-testing."
   ]
  },
  {
   "cell_type": "markdown",
   "metadata": {},
   "source": [
    "The following is the format for the upcoming statisical test will will utilize to test our stroop test hypothesis."
   ]
  },
  {
   "cell_type": "markdown",
   "metadata": {},
   "source": [
    "_**Hypothesis Test**_\n",
    "\n",
    "$H_{0}$: $\\bar{x}_{D} = 0$        For the null hypothesis $H_{0}$, We state that for a change in color of the words, there is no difference in reaction time\n",
    "\n",
    "$H_{A}$: $\\bar{x}_{D} \\neq 0$    For the Alternative hypothesis $H_{A}$, We state that there is a change in reaction time, from the change in the color of words\n",
    "\n",
    "where $\\bar{x}_{D}$ is the mean of the differences between congruent and incongruent trials $\\bar{x}_{Congruent} -\\bar{x}_{Incongruent}$\n",
    "\n",
    "\n",
    "We let $\\alpha = 0.05$. I.e., We have a 95% confidence level, so let $\\alpha$ equal to 5 percent. This $\\alpha$ represents if the phenomenon is due to chance.\n",
    "\n",
    "**Note:** Our hypothesis test is a two tailed test because of the alternative hypothesis condition above, being two sided.\n",
    "\n",
    "We then calculate the following descriptive statistics:\n",
    "1. The means of both the Incongruent and Congruent trials\n",
    "2. The mean of the difference between Incongruent and Congruent trials ($\\mu_{D}$)\n",
    "3. The sample standard error of the differences $s_{D}$\n",
    "4. The population count\n",
    "5. the t critical value $t^*$, using the t-table below\n",
    "\n",
    "\n",
    "![alt text](https://s3.amazonaws.com/udacity-hosted-downloads/t-table.jpg)\n",
    "\n",
    "Thereafter, we calculate the t-statistic and measure it with the t critical value:\n",
    "\n",
    "$t=\\dfrac{\\mu_{D}}{\\dfrac{s}{\\sqrt(n)}}$\n",
    "\n",
    "Decision Rule:\n",
    "\n",
    "If t>$t^*$, we reject the null hypothesis $H_{0}$.\n",
    "\n",
    "Else, we fail to reject the null hypothesis $H_{0}$"
   ]
  },
  {
   "cell_type": "markdown",
   "metadata": {},
   "source": [
    "We make sure to avoid the type 1 and type 2 errors. I.e., we avoid the bottom left and upper right of the following table"
   ]
  },
  {
   "cell_type": "markdown",
   "metadata": {},
   "source": [
    "> **Hypothesis test Contigency Table**\n",
    "\n",
    "|Decision|$H_{0}$ is TRUE| $H_{0}$ is FALSE|\n",
    "|-------|:--------------------------------:|\n",
    "|Accept $H_{0}$| OK             | Type II Error $\\beta = $ probability of Type II error|\n",
    "|Reject $H_{0}$| Type I Error $\\alpha = $ probability of Type I error| OK|\n",
    "\n",
    "\n",
    "After, we reach interpret our decision rule for the initial hypothesis test conditions."
   ]
  },
  {
   "cell_type": "markdown",
   "metadata": {},
   "source": [
    "### Question 3: Report some descriptive statistics regarding this dataset. Include at least one measure of central tendency and at least one measure of variability."
   ]
  },
  {
   "cell_type": "code",
   "execution_count": 4,
   "metadata": {
    "collapsed": true
   },
   "outputs": [],
   "source": [
    "def mean(column):\n",
    "    length =len(column)\n",
    "    col_sum = sum(column)\n",
    "    mean = col_sum/length\n",
    "    return(mean)\n",
    "\n",
    "def stdev(column):\n",
    "    deviations_squared = []\n",
    "    for row in column:\n",
    "        deviations_squared.append( (row-mean(column))**2 )\n",
    "    \n",
    "    std_dev = (sum(deviations_squared)/(len(deviations_squared)-1))**(1/2)\n",
    "    return(std_dev)\n",
    "\n",
    "def t_stat(column):\n",
    "    return(mean(column)/(stdev(column)/(len(column))**(1/2)))"
   ]
  },
  {
   "cell_type": "markdown",
   "metadata": {},
   "source": [
    "The above is the defined mean, standard deviation, and t-statistic calculations for a given column.*\n",
    "\n",
    "\n",
    "*it wasn't necessary to functions, but I did it for the sake of actually displaying my knowledge of the concepts"
   ]
  },
  {
   "cell_type": "code",
   "execution_count": 5,
   "metadata": {
    "collapsed": false
   },
   "outputs": [
    {
     "name": "stdout",
     "output_type": "stream",
     "text": [
      "Congruent Mean\n",
      "14.051125\n"
     ]
    }
   ],
   "source": [
    "print(\"Congruent Mean\")\n",
    "print(mean(file[\"Congruent\"]))"
   ]
  },
  {
   "cell_type": "code",
   "execution_count": 6,
   "metadata": {
    "collapsed": false
   },
   "outputs": [
    {
     "name": "stdout",
     "output_type": "stream",
     "text": [
      "Incongruent Mean\n"
     ]
    },
    {
     "data": {
      "text/plain": [
       "22.015916666666669"
      ]
     },
     "execution_count": 6,
     "metadata": {},
     "output_type": "execute_result"
    }
   ],
   "source": [
    "print(\"Incongruent Mean\")\n",
    "\n",
    "mean(file[\"Incongruent\"])"
   ]
  },
  {
   "cell_type": "code",
   "execution_count": 7,
   "metadata": {
    "collapsed": false
   },
   "outputs": [
    {
     "name": "stdout",
     "output_type": "stream",
     "text": [
      "Congruent Standard Deviation\n"
     ]
    },
    {
     "data": {
      "text/plain": [
       "3.559357957645195"
      ]
     },
     "execution_count": 7,
     "metadata": {},
     "output_type": "execute_result"
    }
   ],
   "source": [
    "print(\"Congruent Standard Deviation\")\n",
    "\n",
    "stdev(file[\"Congruent\"])"
   ]
  },
  {
   "cell_type": "code",
   "execution_count": 8,
   "metadata": {
    "collapsed": false
   },
   "outputs": [
    {
     "name": "stdout",
     "output_type": "stream",
     "text": [
      "Incongruent Standard Deviation\n"
     ]
    },
    {
     "data": {
      "text/plain": [
       "4.7970571224691376"
      ]
     },
     "execution_count": 8,
     "metadata": {},
     "output_type": "execute_result"
    }
   ],
   "source": [
    "print(\"Incongruent Standard Deviation\")\n",
    "\n",
    "stdev(file[\"Incongruent\"])"
   ]
  },
  {
   "cell_type": "markdown",
   "metadata": {},
   "source": [
    "### Question 4: Provide one or two visualizations that show the distribution of the sample data. Write one or two sentences noting what you observe about the plot or plots."
   ]
  },
  {
   "cell_type": "code",
   "execution_count": 26,
   "metadata": {
    "collapsed": false
   },
   "outputs": [
    {
     "data": {
      "image/png": "[encoded data removed]",
      "text/plain": [
       "<matplotlib.figure.Figure at 0x1dfb5f7e5f8>"
      ]
     },
     "metadata": {},
     "output_type": "display_data"
    }
   ],
   "source": [
    "figure = plt.figure(figsize = [10,6])\n",
    "plt.scatter(x=file[\"Congruent\"],y=file[\"Incongruent\"])\n",
    "plt.ylabel(\"Incongruent Reaction Times (sec)\")\n",
    "plt.xlabel(\"Congruent Reaction Times (sec)\")\n",
    "plt.title(\"Congruent vs Incongruent Reactions Times\")\n",
    "plt.show()"
   ]
  },
  {
   "cell_type": "markdown",
   "metadata": {},
   "source": [
    "We observe some linearity in the lower left region of the scatter plot. This indicated region suggest that for persons that properly guess the color congruent words faster, they are able to quickly gues the color of incongruent words.\n",
    "\n",
    "However, as one has a slower reaction time for guessing the incorrect color of either an incongruent or congruent word, they similarly have a harder time for the congruent or incongruent words, respectively."
   ]
  },
  {
   "cell_type": "markdown",
   "metadata": {},
   "source": [
    "### 5. Now, perform the statistical test and report your results. What is your confidence level and your critical statistic value? Do you reject the null hypothesis or fail to reject it? Come to a conclusion in terms of the experiment task. Did the results match up with your expectations?"
   ]
  },
  {
   "cell_type": "markdown",
   "metadata": {
    "collapsed": true
   },
   "source": [
    "We observe that there is a dependency between the Incongruent and Congruent samples because we are testing between two conditions. \n",
    "\n",
    "However, it is difficult to proceed with this hypothesis test with two different equally sized sets. So, we take the difference of these sets, and make a new column in our dataframe called **differences**"
   ]
  },
  {
   "cell_type": "markdown",
   "metadata": {
    "collapsed": true
   },
   "source": [
    "We make a new column in our dataset, called differences:"
   ]
  },
  {
   "cell_type": "code",
   "execution_count": 10,
   "metadata": {
    "collapsed": true
   },
   "outputs": [],
   "source": [
    "file[\"Differences\"] = file[\"Incongruent\"]-file[\"Congruent\"]"
   ]
  },
  {
   "cell_type": "code",
   "execution_count": 11,
   "metadata": {
    "collapsed": false
   },
   "outputs": [
    {
     "data": {
      "text/plain": [
       "0     7.199\n",
       "1     1.950\n",
       "2    11.650\n",
       "3     7.057\n",
       "4     8.134\n",
       "Name: Differences, dtype: float64"
      ]
     },
     "execution_count": 11,
     "metadata": {},
     "output_type": "execute_result"
    }
   ],
   "source": [
    "#Confirm the first 5 rows of the Difference column\n",
    "file[\"Differences\"].head()"
   ]
  },
  {
   "cell_type": "markdown",
   "metadata": {},
   "source": [
    "_**Hypothesis Test**_\n",
    "\n",
    "$H_{0}$: $\\bar{x}_{D} = 0$        For the null hypothesis $H_{0}$, We state that for a change in color of the words, there is no difference in reaction time\n",
    "\n",
    "$H_{A}$: $\\bar{x}_{D} \\neq 0$    For the Alternative hypothesis $H_{A}$, We state that there is a change in reaction time, from the change in the color of words\n",
    "\n",
    "_where $\\bar{x}_{D}$ is the mean of the differences between congruent and incongruent trials $\\bar{x}_{Congruent}-\\bar{x}_{Incongruent}$_\n",
    "\n",
    "\n",
    "We let $\\alpha = 0.05$. I.e., We have a 95% confidence level, so let $\\alpha$ equal to 5 percent. This $\\alpha$ represents if the phenomenon is due to chance."
   ]
  },
  {
   "cell_type": "code",
   "execution_count": 12,
   "metadata": {
    "collapsed": false
   },
   "outputs": [
    {
     "name": "stdout",
     "output_type": "stream",
     "text": [
      "The sample size 'n' is 24 \n",
      "I.e. n= 24\n"
     ]
    }
   ],
   "source": [
    "#What is our sample size n?\n",
    "print(\"The sample size 'n' is\", file.shape[0],\"\\nI.e. n=\",file.shape[0])"
   ]
  },
  {
   "cell_type": "markdown",
   "metadata": {},
   "source": [
    "Now, we solve for the t-statistic"
   ]
  },
  {
   "cell_type": "code",
   "execution_count": 13,
   "metadata": {
    "collapsed": false
   },
   "outputs": [
    {
     "data": {
      "text/plain": [
       "7.9647916666666667"
      ]
     },
     "execution_count": 13,
     "metadata": {},
     "output_type": "execute_result"
    }
   ],
   "source": [
    "mean(file[\"Differences\"])"
   ]
  },
  {
   "cell_type": "code",
   "execution_count": 14,
   "metadata": {
    "collapsed": false
   },
   "outputs": [
    {
     "data": {
      "text/plain": [
       "4.8648269103590556"
      ]
     },
     "execution_count": 14,
     "metadata": {},
     "output_type": "execute_result"
    }
   ],
   "source": [
    "stdev(file[\"Differences\"])"
   ]
  },
  {
   "cell_type": "code",
   "execution_count": 15,
   "metadata": {
    "collapsed": false
   },
   "outputs": [
    {
     "data": {
      "text/plain": [
       "8.020706944109957"
      ]
     },
     "execution_count": 15,
     "metadata": {},
     "output_type": "execute_result"
    }
   ],
   "source": [
    "#We apply the t_stat function from above to the differences column\n",
    "t_stat(file[\"Differences\"])"
   ]
  },
  {
   "cell_type": "markdown",
   "metadata": {},
   "source": [
    "We calculated the above t-statistic value from this forumula\n",
    "$t=\\dfrac{\\mu_{D}}{\\dfrac{s}{\\sqrt(n)}}$"
   ]
  },
  {
   "cell_type": "markdown",
   "metadata": {},
   "source": [
    "Decision Rule:"
   ]
  },
  {
   "cell_type": "markdown",
   "metadata": {
    "collapsed": true
   },
   "source": [
    "\n",
    "If t>$t^*$, we reject the null hypothesis $H_{0}$.\n",
    "\n",
    "Else, we fail to reject the null hypothesis $H_{0}$"
   ]
  },
  {
   "cell_type": "markdown",
   "metadata": {},
   "source": [
    "We have an n value of $n=24$. We also have our degrees of freedom to be 1. So, our df is $24-1=23$.\n",
    "\n",
    "With our $\\alpha= 5 \\%$, we look at the provided t-table, from the beginning of this document, to find our $t^*$. \n",
    "\n",
    "Our df is 23, and our p value is $\\dfrac{\\alpha}{2}=2.5\\%$. So, $t^* = 2.069$."
   ]
  },
  {
   "cell_type": "markdown",
   "metadata": {
    "collapsed": true
   },
   "source": [
    "$t(.025,23)=8.02071$ >  greater than $t^*=2.069$.\n",
    "\n",
    "Therefore, we reject the null hypthesis $H_{0}$"
   ]
  },
  {
   "cell_type": "markdown",
   "metadata": {},
   "source": [
    "##### Conclusion:\n",
    "\n",
    "Because we reject the null hypothesis $H_{0}$,\n",
    "we conclude that there is a differenct between incongruent and congruent trials of the Stroop test."
   ]
  },
  {
   "cell_type": "markdown",
   "metadata": {},
   "source": [
    "### 6. Optional: What do you think is responsible for the effects observed? Can you think of an alternative or similar task that would result in a similar effect? Some research about the problem will be helpful for thinking about these two questions!"
   ]
  },
  {
   "cell_type": "markdown",
   "metadata": {},
   "source": [
    "#### Testing for affect (Effect Size)"
   ]
  },
  {
   "cell_type": "markdown",
   "metadata": {},
   "source": [
    "We want to test for the effect size of the differences of the incongruent and congruent trials. \n",
    "\n",
    "We will implement both cohen's D and the coefficient of determination to test for effect size"
   ]
  },
  {
   "cell_type": "code",
   "execution_count": 16,
   "metadata": {
    "collapsed": true
   },
   "outputs": [],
   "source": [
    "#Cohen's D function for a given column\n",
    "def coD(column):\n",
    "    #Mean of the differences / standard deviation \n",
    "    cohen_D = mean(column)/stdev(column)\n",
    "    return(cohen_D)\n",
    "#Pearson's r for  a given column\n",
    "def pearsonR(column):\n",
    "    t= t_stat(column)\n",
    "    df = column.shape[0]-1\n",
    "    r_squared = t**2/(t**2+df)\n",
    "    r= r_squared**(1/2)\n",
    "    return(r)"
   ]
  },
  {
   "cell_type": "code",
   "execution_count": 17,
   "metadata": {
    "collapsed": false
   },
   "outputs": [
    {
     "data": {
      "text/plain": [
       "1.6372199491222625"
      ]
     },
     "execution_count": 17,
     "metadata": {},
     "output_type": "execute_result"
    }
   ],
   "source": [
    "#Caclulate Cohen's D\n",
    "coD(file[\"Differences\"])"
   ]
  },
  {
   "cell_type": "markdown",
   "metadata": {},
   "source": [
    "There is a 1.63 standard deviation difference from the incongruent sample mean to that of the congruent sample mean"
   ]
  },
  {
   "cell_type": "markdown",
   "metadata": {},
   "source": [
    "#### Testing for effect (coefficient of determination & pearson's r)"
   ]
  },
  {
   "cell_type": "code",
   "execution_count": 18,
   "metadata": {
    "collapsed": false
   },
   "outputs": [
    {
     "data": {
      "text/plain": [
       "0.85827525663070703"
      ]
     },
     "execution_count": 18,
     "metadata": {},
     "output_type": "execute_result"
    }
   ],
   "source": [
    "pearsonR(file[\"Differences\"])"
   ]
  },
  {
   "cell_type": "markdown",
   "metadata": {},
   "source": [
    "We observe a correlation of 85% between the incongruent and congruent cases."
   ]
  },
  {
   "cell_type": "markdown",
   "metadata": {},
   "source": [
    "There is a substantial effect from changing of colors and count of word being exposed to participants. I propose the cause of the effects observed is the order of the procedure. This stated order of the two condtions on the participants allows for some type of lurking situation outside our study.\n",
    "\n",
    "However, there just could be the case that our sample size is small and the participants experience, mental state, etc."
   ]
  },
  {
   "cell_type": "markdown",
   "metadata": {},
   "source": [
    "I propose a similar task that would create a similar effect is the length of words given, a wider variation of color options."
   ]
  },
  {
   "cell_type": "code",
   "execution_count": null,
   "metadata": {
    "collapsed": true
   },
   "outputs": [],
   "source": []
  }
 ],
 "metadata": {
  "anaconda-cloud": {},
  "kernelspec": {
   "display_name": "Python [Root]",
   "language": "python",
   "name": "Python [Root]"
  },
  "language_info": {
   "codemirror_mode": {
    "name": "ipython",
    "version": 3
   },
   "file_extension": ".py",
   "mimetype": "text/x-python",
   "name": "python",
   "nbconvert_exporter": "python",
   "pygments_lexer": "ipython3",
   "version": "3.5.2"
  }
 },
 "nbformat": 4,
 "nbformat_minor": 0
}
